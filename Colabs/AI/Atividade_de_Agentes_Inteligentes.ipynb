{
  "nbformat": 4,
  "nbformat_minor": 0,
  "metadata": {
    "colab": {
      "provenance": [],
      "collapsed_sections": [
        "1F7f2-y9EKI2",
        "RQlVhDVAObKf"
      ],
      "authorship_tag": "ABX9TyNatnDAdOuJrdQVNx6Fe5GD",
      "include_colab_link": true
    },
    "kernelspec": {
      "name": "python3",
      "display_name": "Python 3"
    },
    "language_info": {
      "name": "python"
    }
  },
  "cells": [
    {
      "cell_type": "markdown",
      "metadata": {
        "id": "view-in-github",
        "colab_type": "text"
      },
      "source": [
        "<a href=\"https://colab.research.google.com/github/DiogoSabec/Godot-Bracekeys-Tutorial/blob/main/Colabs/AI/Atividade_de_Agentes_Inteligentes.ipynb\" target=\"_parent\"><img src=\"https://colab.research.google.com/assets/colab-badge.svg\" alt=\"Open In Colab\"/></a>"
      ]
    },
    {
      "cell_type": "markdown",
      "source": [
        "# Agentes Inteligentes"
      ],
      "metadata": {
        "id": "GsCKapM-EAe6"
      }
    },
    {
      "cell_type": "markdown",
      "source": [
        "## Agentes Reativos Simples\n"
      ],
      "metadata": {
        "id": "1F7f2-y9EKI2"
      }
    },
    {
      "cell_type": "markdown",
      "source": [
        "Robô de Pintura de faixas de ruas\n",
        "\n",
        "Usando uma matriz como caminho, utilizando os valores 0 (caminho lirve), 1 (calçada), 2 (pare), 3 (cruzamento). O sistema salvará os pontos em que ja passou e e pintou, marcando os valores pintados com o valor +10\n",
        "\n",
        "Ele não passará pelas calçadas.\n",
        "\n",
        "Lembre-se de rodar todos os códigos toda vez que quiser refazer os movimentos."
      ],
      "metadata": {
        "id": "H13r9CPqx1GL"
      }
    },
    {
      "cell_type": "code",
      "source": [
        "import os\n",
        "import time\n",
        "from IPython.display import display, clear_output\n",
        "\n",
        "rua = [\n",
        "    [1, 0, 0, 1],\n",
        "    [1, 2, 0, 1],\n",
        "    [0, 3, 3, 2],\n",
        "    [2, 3, 3, 0],\n",
        "    [1, 0, 2, 1],\n",
        "    [1, 0, 0, 1]\n",
        "]\n",
        "\n",
        "posicao_atual = [0, 1]\n",
        "visited = set()"
      ],
      "metadata": {
        "id": "Q9vja3W0x5bG"
      },
      "execution_count": 1,
      "outputs": []
    },
    {
      "cell_type": "markdown",
      "source": [
        "\n",
        "\n",
        "---\n",
        "\n",
        "\n",
        "\n",
        "Essas são as funções que fazem o robô se mover e pintar a rua\n",
        "\n",
        "No modelo simples, o robô vai andando apenas Norte e Sul, e ele passa por cima dos locais que já foram pintados e pinta eles novamente, por não saber se ja foi pintado"
      ],
      "metadata": {
        "id": "mUqwZHXBx9Ye"
      }
    },
    {
      "cell_type": "code",
      "source": [
        "def mover_norte(pos):\n",
        "    x, y = pos\n",
        "    new_pos = [pos[0] - 1, pos[1]]\n",
        "    return new_pos\n",
        "\n",
        "def mover_sul(pos):\n",
        "    x, y = pos\n",
        "    new_pos = [pos[0] + 1, pos[1]]\n",
        "    return new_pos\n",
        "\n",
        "def pintar_rua(pos):\n",
        "    x, y = pos\n",
        "    if rua[x][y] != 1:\n",
        "        rua[x][y] *= 10"
      ],
      "metadata": {
        "id": "syOoxCEcyRmP"
      },
      "execution_count": 2,
      "outputs": []
    },
    {
      "cell_type": "markdown",
      "source": [
        "\n",
        "\n",
        "---\n",
        "\n",
        "\n",
        "\n",
        "Código para mover"
      ],
      "metadata": {
        "id": "WoUNXzfu37JL"
      }
    },
    {
      "cell_type": "code",
      "source": [
        "def mover_robot():\n",
        "    global posicao_atual\n",
        "    direcao = 'sul'  # Inicialmente, o robô se move para o sul\n",
        "\n",
        "    while True:\n",
        "        old_pos = posicao_atual[:]\n",
        "\n",
        "        # Se o robô atingir o limite sul, muda a direção para norte\n",
        "        if posicao_atual[0] == len(rua) - 1:\n",
        "            direcao = 'norte'\n",
        "        # Se o robô atingir o limite norte, muda a direção para sul\n",
        "        elif posicao_atual[0] == 0:\n",
        "            direcao = 'sul'\n",
        "\n",
        "        # Move o robô de acordo com a direção\n",
        "        if direcao == 'sul':\n",
        "            posicao_atual = mover_sul(posicao_atual)\n",
        "        else:\n",
        "            posicao_atual = mover_norte(posicao_atual)\n",
        "\n",
        "        visited.add(tuple(posicao_atual))\n",
        "        pintar_rua(posicao_atual)\n",
        "\n",
        "        old_value = rua[posicao_atual[0]][posicao_atual[1]]\n",
        "        rua[posicao_atual[0]][posicao_atual[1]] = 99\n",
        "\n",
        "        clear_output(wait=True)\n",
        "        for row in rua:\n",
        "            print(row)\n",
        "        time.sleep(1)\n",
        "\n",
        "        rua[posicao_atual[0]][posicao_atual[1]] = old_value"
      ],
      "metadata": {
        "id": "gtO2UptNyZPx"
      },
      "execution_count": 3,
      "outputs": []
    },
    {
      "cell_type": "markdown",
      "source": [
        "## Agentes Baseados em Modelos\n",
        "Robô de Pintura de faixas de ruas\n",
        "\n",
        "Usando uma matriz como caminho, utilizando os valores 0 (caminho lirve), 1 (calçada), 2 (pare), 3 (cruzamento).\n",
        "O sistema salvará os pontos em que ja passou e e pintou, marcando os valores pintados com o valor +10\n",
        "\n",
        "Ele não passará pelas calçadas.\n",
        "\n",
        "Lembre-se de rodar todos os códigos toda vez que quiser refazer os movimentos."
      ],
      "metadata": {
        "id": "RQlVhDVAObKf"
      }
    },
    {
      "cell_type": "markdown",
      "source": [
        "---\n",
        "Aqui a gente \"desenha\" a rua\n"
      ],
      "metadata": {
        "id": "dWTqYO8jWMDz"
      }
    },
    {
      "cell_type": "code",
      "source": [
        "import os\n",
        "import time\n",
        "from IPython.display import display, clear_output\n",
        "\n",
        "rua = [\n",
        "    [1, 0, 0, 1],\n",
        "    [1, 2, 0, 1],\n",
        "    [0, 3, 3, 2],\n",
        "    [2, 3, 3, 0],\n",
        "    [1, 0, 2, 1],\n",
        "    [1, 0, 0, 1]\n",
        "]\n",
        "\n",
        "posicao_atual = [0, 1]\n",
        "visited = set()"
      ],
      "metadata": {
        "id": "WOBYxDr3WJnX"
      },
      "execution_count": 5,
      "outputs": []
    },
    {
      "cell_type": "markdown",
      "source": [
        "---\n",
        "Essas são as funções que fazem o robô se mover e pintar a rua\n",
        "\n"
      ],
      "metadata": {
        "id": "B-SkuEc8Wczy"
      }
    },
    {
      "cell_type": "code",
      "source": [
        "def is_valid(pos):\n",
        "    x, y = pos\n",
        "    if x < 0 or y < 0 or x >= len(rua) or y >= len(rua[0]):\n",
        "        return False\n",
        "    if rua[x][y] == 1 or tuple(pos) in visited:\n",
        "        return False\n",
        "    return True\n",
        "\n",
        "def mover_norte(pos):\n",
        "    new_pos = [pos[0] - 1, pos[1]]\n",
        "    if is_valid(new_pos):\n",
        "        return new_pos\n",
        "    return pos\n",
        "\n",
        "def mover_sul(pos):\n",
        "    new_pos = [pos[0] + 1, pos[1]]\n",
        "    if is_valid(new_pos):\n",
        "        return new_pos\n",
        "    return pos\n",
        "\n",
        "def mover_leste(pos):\n",
        "    new_pos = [pos[0], pos[1] + 1]\n",
        "    if is_valid(new_pos):\n",
        "        return new_pos\n",
        "    return pos\n",
        "\n",
        "def mover_oeste(pos):\n",
        "    new_pos = [pos[0], pos[1] - 1]\n",
        "    if is_valid(new_pos):\n",
        "        return new_pos\n",
        "    return pos\n",
        "\n",
        "def pintar_rua(pos):\n",
        "    x, y = pos\n",
        "    if rua[x][y] != 1:\n",
        "        rua[x][y] *= 10"
      ],
      "metadata": {
        "id": "wJVKMfe6Wp7J"
      },
      "execution_count": 6,
      "outputs": []
    },
    {
      "cell_type": "markdown",
      "source": [
        "---\n",
        "\n",
        "Essa é a Lógica para o robô se mover e pintar as ruas."
      ],
      "metadata": {
        "id": "DpfcpeVrWviM"
      }
    },
    {
      "cell_type": "code",
      "source": [
        "def mover_robot():\n",
        "    global posicao_atual\n",
        "    while True:\n",
        "        old_pos = posicao_atual[:]\n",
        "        posicao_atual = mover_leste(posicao_atual)\n",
        "        if posicao_atual == old_pos:\n",
        "            posicao_atual = mover_sul(posicao_atual)\n",
        "        if posicao_atual == old_pos:\n",
        "            posicao_atual = mover_oeste(posicao_atual)\n",
        "        if posicao_atual == old_pos:\n",
        "            posicao_atual = mover_norte(posicao_atual)\n",
        "        if posicao_atual == old_pos:\n",
        "            break\n",
        "        visited.add(tuple(posicao_atual))\n",
        "        pintar_rua(posicao_atual)\n",
        "\n",
        "        old_value = rua[posicao_atual[0]][posicao_atual[1]]  # save the old value\n",
        "        rua[posicao_atual[0]][posicao_atual[1]] = 99  # change the current position to 99\n",
        "\n",
        "        clear_output(wait=True)  # clear the output\n",
        "        for row in rua:  # print the matrix\n",
        "            print(row)\n",
        "        time.sleep(0.5)  # wait for a while before the next move\n",
        "\n",
        "        rua[posicao_atual[0]][posicao_atual[1]] = old_value  # restore the old value"
      ],
      "metadata": {
        "id": "aur0nnfNW6tU"
      },
      "execution_count": 7,
      "outputs": []
    },
    {
      "cell_type": "markdown",
      "source": [
        "\n",
        "\n",
        "---\n",
        "Agora, faça o robô pintar as ruas!\n"
      ],
      "metadata": {
        "id": "rt5rZLUXW78p"
      }
    },
    {
      "cell_type": "code",
      "source": [
        "mover_robot()"
      ],
      "metadata": {
        "colab": {
          "base_uri": "https://localhost:8080/"
        },
        "id": "g6-bkA-3XCvU",
        "outputId": "40436a36-89a5-49a5-96c1-3ac1c72049ef"
      },
      "execution_count": 8,
      "outputs": [
        {
          "output_type": "stream",
          "name": "stdout",
          "text": [
            "[1, 99, 0, 1]\n",
            "[1, 20, 0, 1]\n",
            "[0, 30, 30, 20]\n",
            "[20, 30, 30, 0]\n",
            "[1, 0, 20, 1]\n",
            "[1, 0, 0, 1]\n"
          ]
        }
      ]
    },
    {
      "cell_type": "markdown",
      "source": [
        "## Agentes Reativos Baseados em Objetivos\n",
        "\n",
        "\n"
      ],
      "metadata": {
        "id": "_qTd_Ln2abAN"
      }
    },
    {
      "cell_type": "markdown",
      "source": [
        "Seguindo o exemplo do robô de pintura de ruas, operando como um agente baseado em objetivos, utiliza uma abordagem centrada em metas. Seu principal objetivo é realizar a pintura de ruas de maneira eficiente e precisa.\n",
        "\n",
        "Ao receber uma nova tarefa, o agente avalia as metas a serem atingidas, como cobrir uma determinada área, minimizar o uso de tinta ou otimizar o tempo de execução. Com base nessas metas, o robô define planos e estratégias para alcançar os objetivos estabelecidos, tomando decisões que visam a maximização do cumprimento das metas definidas."
      ],
      "metadata": {
        "id": "JTZ1wHUCwKXd"
      }
    },
    {
      "cell_type": "markdown",
      "source": [
        "---\n",
        "## Agente Reativo Baseado em Utilidade\n"
      ],
      "metadata": {
        "id": "CkmEuySrdJRF"
      }
    },
    {
      "cell_type": "markdown",
      "source": [
        "O robô de pintura de ruas, agindo como um agente baseado em utilidade, considera não apenas objetivos específicos, mas também avalia o valor associado a cada decisão. Sua programação leva em conta uma função de utilidade que quantifica o benefício global de diferentes ações.\n",
        "\n",
        "Isso implica em avaliar não apenas o cumprimento dos objetivos, mas também considerar fatores como eficiência energética, custo de materiais, impacto ambiental e outros critérios relevantes. Dessa forma, o robô prioriza ações que proporcionam o maior benefício global, levando em consideração uma abordagem mais holística para a pintura de ruas."
      ],
      "metadata": {
        "id": "sds25RwMwOCS"
      }
    }
  ]
}